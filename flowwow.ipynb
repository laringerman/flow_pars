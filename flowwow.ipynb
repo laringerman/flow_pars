{
 "cells": [
  {
   "cell_type": "code",
   "execution_count": 8,
   "id": "24ad8f5d",
   "metadata": {},
   "outputs": [],
   "source": [
    "import pandas as pd \n",
    "import requests\n",
    "import json\n",
    "import os\n",
    "from dotenv import load_dotenv\n",
    "import ast\n",
    "import gspread\n",
    "import re\n",
    "import time\n",
    "from datetime import datetime"
   ]
  },
  {
   "cell_type": "code",
   "execution_count": 9,
   "id": "3e9dcc8d",
   "metadata": {},
   "outputs": [],
   "source": [
    "#загружаем env\n",
    "load_dotenv()\n",
    "google_credentials = os.getenv('GOOGLE_CREDENTIALS')\n",
    "credentials = ast.literal_eval(google_credentials)\n",
    "gc = gspread.service_account_from_dict(credentials)\n",
    "sh = gc.open('flowwow')"
   ]
  },
  {
   "cell_type": "code",
   "execution_count": 10,
   "id": "ac1293fe",
   "metadata": {},
   "outputs": [],
   "source": [
    "worksheets_name = ['sem_tort', 'sem_b_tort', 'sem_hp_tort']\n",
    "search_list = ['торт', 'бенто торт', 'торт на день рождение']"
   ]
  },
  {
   "cell_type": "code",
   "execution_count": 11,
   "id": "9eb37ec1",
   "metadata": {},
   "outputs": [],
   "source": [
    "def clean_delivery_time(text):\n",
    "    if pd.isna(text):\n",
    "        return text\n",
    "    \n",
    "    # Replace &nbsp; with space\n",
    "    text = re.sub(r'&nbsp;', ' ', text)\n",
    "    \n",
    "    # Remove ≈ if present\n",
    "    text = re.sub(r'≈\\s*', '', text)\n",
    "    \n",
    "    # Remove <br> tags and replace with space\n",
    "    text = re.sub(r'<br>\\s*', ' ', text)\n",
    "    \n",
    "    # Remove extra spaces\n",
    "    text = re.sub(r'\\s+', ' ', text).strip()\n",
    "    \n",
    "    # Special case for time ranges (19:15 - 19:45)\n",
    "    text = re.sub(r'(\\d{1,2}:\\d{2})\\s*-\\s*(\\d{1,2}:\\d{2})', r'\\1-\\2', text)\n",
    "    \n",
    "    return text"
   ]
  },
  {
   "cell_type": "code",
   "execution_count": null,
   "id": "43954452",
   "metadata": {},
   "outputs": [],
   "source": [
    "def get_data(search_name):\n",
    "    # Base URL\n",
    "    url = \"https://clientweb.flowwow.com/apiuser/products/search/\"\n",
    "\n",
    "    # Headers\n",
    "    headers = {\n",
    "        \"authority\": \"clientweb.flowwow.com\",\n",
    "        \"accept\": \"application/json\",\n",
    "        \"accept-language\": \"ru-RU,ru;q=0.9,en-US;q=0.8,en;q=0.7\",\n",
    "        \"cache-control\": \"no-cache\",\n",
    "        \"canonical-url\": \"https://clientweb.flowwow.com\",\n",
    "        \"referer\": \"https://clientweb.flowwow.com/\",\n",
    "        \"user-agent\": \"Mozilla/5.0 (Windows NT 10.0; Win64; x64) AppleWebKit/537.36 (KHTML, like Gecko) Chrome/120.0.0.0 Safari/537.36\"\n",
    "    }\n",
    "\n",
    "    # Parameters\n",
    "    params = {\n",
    "        \"property\": json.dumps({\n",
    "            \"range_group_ids\": [],\n",
    "            \"query\": search_name,\n",
    "            \"city\": 1,\n",
    "            \"lat\": 55.783514,\n",
    "            \"lng\": 37.720232\n",
    "        }),\n",
    "        \"limit\": 60,\n",
    "        \"filters\": \"{}\",\n",
    "        \"currency\": \"RUB\",\n",
    "        \"lang\": \"ru\",\n",
    "        \"page\": 1,\n",
    "       # \"guestId\": \"978682871072267100\"\n",
    "    }\n",
    "\n",
    "    try:\n",
    "        # Make the GET request\n",
    "        response = requests.get(url, params=params, headers=headers)\n",
    "        \n",
    "        # Check if the request was successful\n",
    "        if response.status_code == 200:\n",
    "            # Print the JSON response\n",
    "            pass\n",
    "        else:\n",
    "            print(f\"Request failed with status code {response.status_code}\")\n",
    "            print(response.text)\n",
    "\n",
    "    except requests.exceptions.RequestException as e:\n",
    "        print(f\"An error occurred: {e}\")\n",
    "\n",
    "    j = response.json()\n",
    "    df = pd.json_normalize(j['data']['items'])\n",
    "    new_df = pd.DataFrame(df)\n",
    "    new_df['deliveryTime'] = new_df['deliveryTime'].apply(clean_delivery_time)\n",
    "    new_df = new_df.drop(columns=['scoreKm', 'scorePoints'])\n",
    "    new_df = new_df.fillna('')\n",
    "    new_df['timestamp'] = datetime.now().strftime('%Y-%m-%d %H:%M')\n",
    "    return new_df"
   ]
  },
  {
   "cell_type": "code",
   "execution_count": 13,
   "id": "511cec79",
   "metadata": {},
   "outputs": [],
   "source": [
    "def load_new_data(new_df, sheet_name):\n",
    "    wks = sh.worksheet(sheet_name)\n",
    "    wks.clear()\n",
    "    wks.update([new_df.columns.values.tolist()] + new_df.values.tolist())"
   ]
  },
  {
   "cell_type": "code",
   "execution_count": 14,
   "id": "43a4c72d",
   "metadata": {},
   "outputs": [],
   "source": [
    "for sh_name, search_name in zip(worksheets_name,  search_list):\n",
    "    search_df = get_data(search_name)\n",
    "    load_new_data(search_df, sh_name)\n",
    "    time.sleep(1)"
   ]
  },
  {
   "cell_type": "code",
   "execution_count": null,
   "id": "a21d8a55",
   "metadata": {},
   "outputs": [],
   "source": [
    "\n",
    "pages = int(j['data']['total'] / 60)\n",
    "for i in range(2, pages+1):\n",
    "    print(i)"
   ]
  },
  {
   "cell_type": "code",
   "execution_count": 23,
   "id": "509aaf5e",
   "metadata": {},
   "outputs": [
    {
     "data": {
      "text/plain": [
       "2000"
      ]
     },
     "execution_count": 23,
     "metadata": {},
     "output_type": "execute_result"
    }
   ],
   "source": [
    "j['data']['total']"
   ]
  },
  {
   "cell_type": "code",
   "execution_count": null,
   "id": "d3fab788",
   "metadata": {},
   "outputs": [
    {
     "name": "stdout",
     "output_type": "stream",
     "text": [
      "2\n",
      "3\n",
      "4\n",
      "5\n",
      "6\n",
      "7\n",
      "8\n",
      "9\n",
      "10\n",
      "11\n",
      "12\n",
      "13\n",
      "14\n",
      "15\n",
      "16\n",
      "17\n",
      "18\n",
      "19\n",
      "20\n",
      "21\n",
      "22\n",
      "23\n",
      "24\n",
      "25\n",
      "26\n",
      "27\n",
      "28\n",
      "29\n",
      "30\n",
      "31\n",
      "32\n",
      "33\n"
     ]
    }
   ],
   "source": []
  },
  {
   "cell_type": "code",
   "execution_count": null,
   "id": "408c262b",
   "metadata": {},
   "outputs": [],
   "source": []
  },
  {
   "cell_type": "markdown",
   "id": "9af7ccf6",
   "metadata": {},
   "source": [
    "NEW\n"
   ]
  },
  {
   "cell_type": "code",
   "execution_count": null,
   "id": "a12e1117",
   "metadata": {},
   "outputs": [],
   "source": []
  },
  {
   "cell_type": "code",
   "execution_count": null,
   "id": "833d79ca",
   "metadata": {},
   "outputs": [],
   "source": []
  },
  {
   "cell_type": "code",
   "execution_count": null,
   "id": "842d816d",
   "metadata": {},
   "outputs": [],
   "source": []
  }
 ],
 "metadata": {
  "kernelspec": {
   "display_name": "venv",
   "language": "python",
   "name": "python3"
  },
  "language_info": {
   "codemirror_mode": {
    "name": "ipython",
    "version": 3
   },
   "file_extension": ".py",
   "mimetype": "text/x-python",
   "name": "python",
   "nbconvert_exporter": "python",
   "pygments_lexer": "ipython3",
   "version": "3.11.9"
  }
 },
 "nbformat": 4,
 "nbformat_minor": 5
}
